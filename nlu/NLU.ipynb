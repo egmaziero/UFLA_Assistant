{
 "cells": [
  {
   "cell_type": "markdown",
   "metadata": {},
   "source": [
    "# NLU"
   ]
  },
  {
   "cell_type": "code",
   "execution_count": 5,
   "metadata": {},
   "outputs": [],
   "source": [
    "import spacy\n",
    "import json\n",
    "import nltk\n",
    "from nltk.tokenize import sent_tokenize"
   ]
  },
  {
   "cell_type": "code",
   "execution_count": 6,
   "metadata": {},
   "outputs": [],
   "source": [
    "nlp = spacy.load('pt_core_news_sm')\n",
    "sent_tokenizer = nltk.data.load('tokenizers/punkt/portuguese.pickle')"
   ]
  },
  {
   "cell_type": "code",
   "execution_count": 27,
   "metadata": {},
   "outputs": [],
   "source": [
    "def nlu(text):\n",
    "    annotation = {\"sentences\": []}\n",
    "    sentences = sent_tokenizer.tokenize(text)\n",
    "    for sentence in sentences:\n",
    "        ann = {\"sentence\": sentence, \"tokens\": [], \"POS\": [], \"DEP\": [], \"NER\": []}\n",
    "        doc = nlp(sentence)\n",
    "        for token in doc:\n",
    "            ann[\"tokens\"].append(str(token.text))\n",
    "            ann[\"POS\"].append(str(token.pos_))\n",
    "            ann[\"DEP\"].append((str(token.dep_), str(token.head)))\n",
    "            ann[\"NER\"].append(str(token.ent_type_))\n",
    "        annotation[\"sentences\"].append(ann)\n",
    "    return json.dumps(annotation)"
   ]
  },
  {
   "cell_type": "code",
   "execution_count": 28,
   "metadata": {},
   "outputs": [
    {
     "data": {
      "text/plain": [
       "'{\"sentences\": [{\"sentence\": \"Dando continuidade \\\\u00e0 programa\\\\u00e7\\\\u00e3o do XXXII Congresso de Inicia\\\\u00e7\\\\u00e3o Cient\\\\u00edfica (Ciufla), do XIV Congresso de Extens\\\\u00e3o (Conex) e do XXVIII Congresso da P\\\\u00f3s-Gradua\\\\u00e7\\\\u00e3o, foram realizadas palestras com professores de diferentes \\\\u00e1reas da UFLA com o intuito de mostrar como \\\\u00e9 poss\\\\u00edvel captar recursos de empresas privadas por meio de parcerias e ainda levar tecnologias geradas na Universidade para fora do ambiente acad\\\\u00eamico.\", \"tokens\": [\"Dando\", \"continuidade\", \"\\\\u00e0\", \"programa\\\\u00e7\\\\u00e3o\", \"do\", \"XXXII\", \"Congresso\", \"de\", \"Inicia\\\\u00e7\\\\u00e3o\", \"Cient\\\\u00edfica\", \"(\", \"Ciufla\", \")\", \",\", \"do\", \"XIV\", \"Congresso\", \"de\", \"Extens\\\\u00e3o\", \"(\", \"Conex\", \")\", \"e\", \"do\", \"XXVIII\", \"Congresso\", \"da\", \"P\\\\u00f3s-Gradua\\\\u00e7\\\\u00e3o\", \",\", \"foram\", \"realizadas\", \"palestras\", \"com\", \"professores\", \"de\", \"diferentes\", \"\\\\u00e1reas\", \"da\", \"UFLA\", \"com\", \"o\", \"intuito\", \"de\", \"mostrar\", \"como\", \"\\\\u00e9\", \"poss\\\\u00edvel\", \"captar\", \"recursos\", \"de\", \"empresas\", \"privadas\", \"por\", \"meio\", \"de\", \"parcerias\", \"e\", \"ainda\", \"levar\", \"tecnologias\", \"geradas\", \"na\", \"Universidade\", \"para\", \"fora\", \"do\", \"ambiente\", \"acad\\\\u00eamico\", \".\"], \"POS\": [\"VERB\", \"NOUN\", \"DET\", \"NOUN\", \"NUM\", \"ADJ\", \"PROPN\", \"ADP\", \"PROPN\", \"PROPN\", \"PUNCT\", \"PROPN\", \"PUNCT\", \"PUNCT\", \"PROPN\", \"ADJ\", \"NOUN\", \"ADP\", \"PROPN\", \"PUNCT\", \"PROPN\", \"PUNCT\", \"CCONJ\", \"DET\", \"PROPN\", \"NOUN\", \"ADP\", \"PROPN\", \"PUNCT\", \"AUX\", \"VERB\", \"NOUN\", \"ADP\", \"NOUN\", \"ADP\", \"DET\", \"NOUN\", \"ADP\", \"NOUN\", \"ADP\", \"DET\", \"NOUN\", \"ADP\", \"VERB\", \"ADV\", \"VERB\", \"ADJ\", \"VERB\", \"NOUN\", \"ADP\", \"NOUN\", \"VERB\", \"ADP\", \"NOUN\", \"ADP\", \"NOUN\", \"CCONJ\", \"ADV\", \"VERB\", \"NOUN\", \"VERB\", \"PROPN\", \"PROPN\", \"ADP\", \"ADV\", \"ADP\", \"NOUN\", \"ADJ\", \"PUNCT\"], \"DEP\": [[\"ROOT\", \"Dando\"], [\"obj\", \"Dando\"], [\"amod\", \"continuidade\"], [\"obj\", \"Dando\"], [\"case\", \"XXXII\"], [\"nmod\", \"programa\\\\u00e7\\\\u00e3o\"], [\"nsubj:pass\", \"realizadas\"], [\"case\", \"Inicia\\\\u00e7\\\\u00e3o\"], [\"nmod\", \"Congresso\"], [\"flat:name\", \"Inicia\\\\u00e7\\\\u00e3o\"], [\"punct\", \"Ciufla\"], [\"appos\", \"Inicia\\\\u00e7\\\\u00e3o\"], [\"punct\", \"Ciufla\"], [\"punct\", \"Congresso\"], [\"case\", \"Congresso\"], [\"amod\", \"Congresso\"], [\"nmod\", \"Congresso\"], [\"case\", \"Extens\\\\u00e3o\"], [\"nmod\", \"Congresso\"], [\"punct\", \"Conex\"], [\"appos\", \"Extens\\\\u00e3o\"], [\"punct\", \"Conex\"], [\"cc\", \"XXVIII\"], [\"case\", \"XXVIII\"], [\"conj\", \"Congresso\"], [\"flat:name\", \"XXVIII\"], [\"case\", \"P\\\\u00f3s-Gradua\\\\u00e7\\\\u00e3o\"], [\"nmod\", \"Congresso\"], [\"punct\", \"Congresso\"], [\"aux:pass\", \"realizadas\"], [\"ROOT\", \"realizadas\"], [\"nsubj:pass\", \"realizadas\"], [\"case\", \"professores\"], [\"obl\", \"realizadas\"], [\"case\", \"\\\\u00e1reas\"], [\"det\", \"\\\\u00e1reas\"], [\"nmod\", \"professores\"], [\"case\", \"UFLA\"], [\"nmod\", \"\\\\u00e1reas\"], [\"case\", \"intuito\"], [\"det\", \"intuito\"], [\"nmod\", \"professores\"], [\"mark\", \"mostrar\"], [\"acl\", \"intuito\"], [\"advmod\", \"poss\\\\u00edvel\"], [\"cop\", \"poss\\\\u00edvel\"], [\"advcl\", \"realizadas\"], [\"csubj\", \"poss\\\\u00edvel\"], [\"obj\", \"captar\"], [\"case\", \"empresas\"], [\"nmod\", \"recursos\"], [\"acl\", \"empresas\"], [\"case\", \"meio\"], [\"obl:agent\", \"privadas\"], [\"case\", \"parcerias\"], [\"nmod\", \"meio\"], [\"cc\", \"levar\"], [\"advmod\", \"levar\"], [\"conj\", \"captar\"], [\"obj\", \"levar\"], [\"acl\", \"tecnologias\"], [\"xcomp\", \"geradas\"], [\"ROOT\", \"Universidade\"], [\"case\", \"fora\"], [\"advmod\", \"Universidade\"], [\"case\", \"ambiente\"], [\"ROOT\", \"ambiente\"], [\"amod\", \"ambiente\"], [\"punct\", \"ambiente\"]], \"NER\": [\"\", \"\", \"\", \"\", \"\", \"MISC\", \"MISC\", \"MISC\", \"MISC\", \"MISC\", \"\", \"ORG\", \"\", \"\", \"\", \"MISC\", \"MISC\", \"MISC\", \"MISC\", \"\", \"LOC\", \"\", \"\", \"\", \"MISC\", \"MISC\", \"MISC\", \"MISC\", \"\", \"\", \"\", \"\", \"\", \"\", \"\", \"\", \"\", \"\", \"ORG\", \"\", \"\", \"\", \"\", \"\", \"\", \"\", \"\", \"\", \"\", \"\", \"\", \"\", \"\", \"\", \"\", \"\", \"\", \"\", \"\", \"\", \"\", \"\", \"LOC\", \"\", \"\", \"\", \"\", \"\", \"\"]}, {\"sentence\": \"O professor J\\\\u00falio Louzada, do Departamento de Biologia (DBI), mostrou como \\\\u00e9 importante buscar a qualidade das publica\\\\u00e7\\\\u00f5es das pesquisas desenvolvidas na UFLA, e os professores Fl\\\\u00e1vio Bor\\\\u00e9m, do Departamento de Engenharia (DEG), e Carla \\\\u00c1vila, do Departamento de Zootecnia (DZO), falaram sobre como as ideias inovadoras ajudam a atrair empresas parceiras para investimentos na Universidade.\", \"tokens\": [\"O\", \"professor\", \"J\\\\u00falio\", \"Louzada\", \",\", \"do\", \"Departamento\", \"de\", \"Biologia\", \"(\", \"DBI\", \")\", \",\", \"mostrou\", \"como\", \"\\\\u00e9\", \"importante\", \"buscar\", \"a\", \"qualidade\", \"das\", \"publica\\\\u00e7\\\\u00f5es\", \"das\", \"pesquisas\", \"desenvolvidas\", \"na\", \"UFLA\", \",\", \"e\", \"os\", \"professores\", \"Fl\\\\u00e1vio\", \"Bor\\\\u00e9m\", \",\", \"do\", \"Departamento\", \"de\", \"Engenharia\", \"(\", \"DEG\", \")\", \",\", \"e\", \"Carla\", \"\\\\u00c1vila\", \",\", \"do\", \"Departamento\", \"de\", \"Zootecnia\", \"(\", \"DZO\", \")\", \",\", \"falaram\", \"sobre\", \"como\", \"as\", \"ideias\", \"inovadoras\", \"ajudam\", \"a\", \"atrair\", \"empresas\", \"parceiras\", \"para\", \"investimentos\", \"na\", \"Universidade\", \".\"], \"POS\": [\"DET\", \"NOUN\", \"PROPN\", \"PROPN\", \"PUNCT\", \"PROPN\", \"PROPN\", \"ADP\", \"PROPN\", \"PUNCT\", \"PROPN\", \"PUNCT\", \"PUNCT\", \"VERB\", \"ADV\", \"VERB\", \"ADJ\", \"VERB\", \"DET\", \"NOUN\", \"VERB\", \"NOUN\", \"ADJ\", \"ADJ\", \"VERB\", \"DET\", \"PROPN\", \"PUNCT\", \"CCONJ\", \"DET\", \"SYM\", \"PROPN\", \"PROPN\", \"PUNCT\", \"PROPN\", \"PROPN\", \"ADP\", \"PROPN\", \"PUNCT\", \"PROPN\", \"PUNCT\", \"PUNCT\", \"CCONJ\", \"PROPN\", \"PROPN\", \"PUNCT\", \"PROPN\", \"PROPN\", \"ADP\", \"PROPN\", \"PUNCT\", \"PROPN\", \"PUNCT\", \"PUNCT\", \"VERB\", \"ADP\", \"NOUN\", \"DET\", \"NOUN\", \"ADJ\", \"VERB\", \"ADP\", \"VERB\", \"NOUN\", \"NOUN\", \"ADP\", \"NOUN\", \"PROPN\", \"PROPN\", \"PUNCT\"], \"DEP\": [[\"det\", \"professor\"], [\"nsubj\", \"mostrou\"], [\"appos\", \"professor\"], [\"flat:name\", \"J\\\\u00falio\"], [\"punct\", \"do\"], [\"appos\", \"professor\"], [\"flat:name\", \"do\"], [\"case\", \"Biologia\"], [\"nmod\", \"Departamento\"], [\"punct\", \"DBI\"], [\"appos\", \"do\"], [\"punct\", \"DBI\"], [\"punct\", \"do\"], [\"ccomp\", \"falaram\"], [\"advmod\", \"importante\"], [\"cop\", \"importante\"], [\"xcomp\", \"mostrou\"], [\"csubj\", \"importante\"], [\"det\", \"qualidade\"], [\"obj\", \"buscar\"], [\"acl\", \"qualidade\"], [\"obj\", \"das\"], [\"acl\", \"publica\\\\u00e7\\\\u00f5es\"], [\"xcomp\", \"das\"], [\"acl\", \"publica\\\\u00e7\\\\u00f5es\"], [\"obj\", \"desenvolvidas\"], [\"flat:name\", \"na\"], [\"punct\", \"professores\"], [\"cc\", \"professores\"], [\"det\", \"professores\"], [\"conj\", \"mostrou\"], [\"appos\", \"professores\"], [\"flat:name\", \"Fl\\\\u00e1vio\"], [\"punct\", \"do\"], [\"appos\", \"professores\"], [\"flat:name\", \"do\"], [\"case\", \"Engenharia\"], [\"nmod\", \"Departamento\"], [\"punct\", \"DEG\"], [\"appos\", \"do\"], [\"punct\", \"DEG\"], [\"punct\", \"Carla\"], [\"cc\", \"Carla\"], [\"conj\", \"professores\"], [\"flat:name\", \"Carla\"], [\"punct\", \"mostrou\"], [\"advmod\", \"mostrou\"], [\"flat:name\", \"do\"], [\"case\", \"Zootecnia\"], [\"nmod\", \"Departamento\"], [\"punct\", \"DZO\"], [\"appos\", \"Departamento\"], [\"punct\", \"DZO\"], [\"punct\", \"do\"], [\"ROOT\", \"falaram\"], [\"case\", \"ideias\"], [\"case\", \"ideias\"], [\"det\", \"ideias\"], [\"obl\", \"falaram\"], [\"amod\", \"ideias\"], [\"aux\", \"atrair\"], [\"mark\", \"atrair\"], [\"csubj\", \"falaram\"], [\"obj\", \"atrair\"], [\"amod\", \"empresas\"], [\"case\", \"investimentos\"], [\"obl\", \"atrair\"], [\"amod\", \"investimentos\"], [\"flat:name\", \"investimentos\"], [\"punct\", \"falaram\"]], \"NER\": [\"\", \"\", \"PER\", \"PER\", \"\", \"\", \"ORG\", \"ORG\", \"ORG\", \"\", \"ORG\", \"\", \"\", \"\", \"\", \"\", \"\", \"\", \"\", \"\", \"\", \"\", \"\", \"\", \"\", \"\", \"LOC\", \"\", \"\", \"\", \"\", \"PER\", \"PER\", \"\", \"\", \"ORG\", \"ORG\", \"ORG\", \"\", \"ORG\", \"\", \"\", \"\", \"PER\", \"PER\", \"\", \"\", \"ORG\", \"ORG\", \"ORG\", \"\", \"ORG\", \"\", \"\", \"\", \"\", \"\", \"\", \"\", \"\", \"\", \"\", \"\", \"\", \"\", \"\", \"\", \"\", \"LOC\", \"\"]}]}'"
      ]
     },
     "execution_count": 28,
     "metadata": {},
     "output_type": "execute_result"
    }
   ],
   "source": [
    "text = \"\"\"Dando continuidade à programação do XXXII Congresso de Iniciação Científica (Ciufla), do XIV Congresso de Extensão (Conex) e do XXVIII Congresso da Pós-Graduação, foram realizadas palestras com professores de diferentes áreas da UFLA com o intuito de mostrar como é possível captar recursos de empresas privadas por meio de parcerias e ainda levar tecnologias geradas na Universidade para fora do ambiente acadêmico.\n",
    "\n",
    "O professor Júlio Louzada, do Departamento de Biologia (DBI), mostrou como é importante buscar a qualidade das publicações das pesquisas desenvolvidas na UFLA, e os professores Flávio Borém, do Departamento de Engenharia (DEG), e Carla Ávila, do Departamento de Zootecnia (DZO), falaram sobre como as ideias inovadoras ajudam a atrair empresas parceiras para investimentos na Universidade.\"\"\"\n",
    "nlu(text)"
   ]
  },
  {
   "cell_type": "code",
   "execution_count": null,
   "metadata": {},
   "outputs": [],
   "source": []
  },
  {
   "cell_type": "code",
   "execution_count": null,
   "metadata": {},
   "outputs": [],
   "source": []
  }
 ],
 "metadata": {
  "kernelspec": {
   "display_name": "Python 3",
   "language": "python",
   "name": "python3"
  },
  "language_info": {
   "codemirror_mode": {
    "name": "ipython",
    "version": 3
   },
   "file_extension": ".py",
   "mimetype": "text/x-python",
   "name": "python",
   "nbconvert_exporter": "python",
   "pygments_lexer": "ipython3",
   "version": "3.6.8"
  }
 },
 "nbformat": 4,
 "nbformat_minor": 4
}
