{
 "cells": [
  {
   "cell_type": "markdown",
   "metadata": {},
   "source": [
    "# NLU"
   ]
  },
  {
   "cell_type": "code",
   "execution_count": 1,
   "metadata": {},
   "outputs": [
    {
     "name": "stderr",
     "output_type": "stream",
     "text": [
      "/home/douglas/.virtualenvs/PLN-IA_env/lib/python3.7/site-packages/sklearn/feature_extraction/text.py:17: DeprecationWarning: Using or importing the ABCs from 'collections' instead of from 'collections.abc' is deprecated, and in 3.8 it will stop working\n",
      "  from collections import Mapping, defaultdict\n"
     ]
    }
   ],
   "source": [
    "import spacy\n",
    "import json\n",
    "import nltk\n",
    "import nlpnet\n",
    "from nltk.tokenize import sent_tokenize"
   ]
  },
  {
   "cell_type": "code",
   "execution_count": 2,
   "metadata": {},
   "outputs": [],
   "source": [
    "nlp = spacy.load('pt_core_news_sm')\n",
    "sent_tokenizer = nltk.data.load('tokenizers/punkt/portuguese.pickle')\n",
    "\n",
    "srl_tagger = nlpnet.SRLTagger('srl-pt', language='pt')"
   ]
  },
  {
   "cell_type": "code",
   "execution_count": 24,
   "metadata": {},
   "outputs": [],
   "source": [
    "def nlu(text):\n",
    "    annotation = {\"sentences\": []}\n",
    "    sentences = sent_tokenizer.tokenize(text)\n",
    "    for sentence in sentences:\n",
    "        ann = {\"sentence\": sentence, \"tokens\": [], \"POS\": [], \"DEP\": [], \"NER\": [], \"SRL\": [], \"WA\": []}\n",
    "        doc = nlp(sentence)\n",
    "        \n",
    "        \n",
    "        for token in doc:\n",
    "            ann[\"tokens\"].append(str(token.text))\n",
    "            ann[\"POS\"].append(str(token.pos_))\n",
    "            ann[\"DEP\"].append((str(token.dep_), str(token.head)))\n",
    "            ann[\"NER\"].append(str(token.ent_type_))\n",
    "                \n",
    "            if(str(token.pos_)==\"NOUN\" or str(token.pos_)==\"ADJ\" or str(token.pos_)==\"PROPN\"):\n",
    "                ann[\"WA\"].append(str(token.text))\n",
    "        \n",
    "        i = 0\n",
    "        while (i < len(ann[\"POS\"])):\n",
    "            propn_token = \"\"\n",
    "            if((ann[\"POS\"][i]==\"NOUN\" and ann[\"POS\"][i+1]==\"ADJ\") or\n",
    "               (ann[\"POS\"][i]==\"ADJ\" and ann[\"POS\"][i+1]==\"NOUN\")):\n",
    "                ann[\"WA\"].append(ann[\"tokens\"][i]+\" \"+ann[\"tokens\"][i+1])\n",
    "            \n",
    "            if(ann[\"POS\"][i]==\"PROPN\" and ann[\"POS\"][i+1]==\"PROPN\"):\n",
    "                propn_token += ann[\"tokens\"][i] + \" \"\n",
    "                while(ann[\"POS\"][i+1]==\"PROPN\"):                                                               \n",
    "                    i+=1\n",
    "                    propn_token+= ann[\"tokens\"][i] + \" \"\n",
    "                                                   \n",
    "                ann[\"WA\"].append(propn_token.strip())\n",
    "                \n",
    "            if(ann[\"POS\"][i]==\"NOUN\" and ann[\"POS\"][i+1]==\"NOUN\"):\n",
    "                propn_token += ann[\"tokens\"][i] + \" \"\n",
    "                while(ann[\"POS\"][i+1]==\"NOUN\"):                                                               \n",
    "                    i+=1\n",
    "                    propn_token+= ann[\"tokens\"][i] + \" \"\n",
    "                                                   \n",
    "                ann[\"WA\"].append(propn_token.strip())\n",
    "                                    \n",
    "            i+=1\n",
    "            \n",
    "        print(ann[\"WA\"])\n",
    "        sent = srl_tagger.tag(u''+sentence)[0]\n",
    "        srl = []\n",
    "        \n",
    "        for s in sent.arg_structures:\n",
    "            \n",
    "            for key, value in s[1].items():\n",
    "                temp={key: value}\n",
    "                srl.append(temp)\n",
    "            \n",
    "        ann[\"SRL\"].append(srl)\n",
    "        annotation[\"sentences\"].append(ann)\n",
    "    return json.dumps(annotation)"
   ]
  },
  {
   "cell_type": "code",
   "execution_count": 25,
   "metadata": {},
   "outputs": [
    {
     "name": "stdout",
     "output_type": "stream",
     "text": [
      "['continuidade', 'programação', 'XXXII', 'Congresso', 'Iniciação', 'Científica', 'Ciufla', 'XIV', 'Congresso', 'Extensão', 'Conex', 'XXVIII', 'Congresso', 'Pós-Graduação', 'palestras', 'professores', 'áreas', 'UFLA', 'intuito', 'possível', 'recursos', 'empresas', 'meio', 'parcerias', 'tecnologias', 'Universidade', 'ambiente', 'acadêmico', 'João', 'Silva', 'XXXII Congresso', 'Iniciação Científica', 'ambiente acadêmico', 'João Silva']\n",
      "['professor', 'Júlio', 'Louzada', 'Silva', 'Santos', 'Departamento', 'Biologia', 'DBI', 'importante', 'qualidade', 'publicações', 'pesquisas', 'UFLA', 'Flávio', 'Borém', 'Departamento', 'Engenharia', 'DEG', 'Carla', 'Ávila', 'Departamento', 'Zootecnia', 'DZO', 'como', 'ideias', 'inovadoras', 'empresas', 'parceiras', 'investimentos', 'Universidade', 'Júlio Louzada Silva Santos', 'Flávio Borém', 'Carla Ávila', 'ideias inovadoras', 'empresas parceiras']\n"
     ]
    },
    {
     "data": {
      "text/plain": [
       "'{\"sentences\": [{\"sentence\": \"Dando continuidade \\\\u00e0 programa\\\\u00e7\\\\u00e3o do XXXII Congresso de Inicia\\\\u00e7\\\\u00e3o Cient\\\\u00edfica (Ciufla), do XIV Congresso de Extens\\\\u00e3o (Conex) e do XXVIII Congresso da P\\\\u00f3s-Gradua\\\\u00e7\\\\u00e3o, foram realizadas palestras com professores de diferentes \\\\u00e1reas da UFLA com o intuito de mostrar como \\\\u00e9 poss\\\\u00edvel captar recursos de empresas privadas por meio de parcerias e ainda levar tecnologias geradas na Universidade para fora do ambiente acad\\\\u00eamico Jo\\\\u00e3o Silva.\", \"tokens\": [\"Dando\", \"continuidade\", \"\\\\u00e0\", \"programa\\\\u00e7\\\\u00e3o\", \"do\", \"XXXII\", \"Congresso\", \"de\", \"Inicia\\\\u00e7\\\\u00e3o\", \"Cient\\\\u00edfica\", \"(\", \"Ciufla\", \")\", \",\", \"do\", \"XIV\", \"Congresso\", \"de\", \"Extens\\\\u00e3o\", \"(\", \"Conex\", \")\", \"e\", \"do\", \"XXVIII\", \"Congresso\", \"da\", \"P\\\\u00f3s-Gradua\\\\u00e7\\\\u00e3o\", \",\", \"foram\", \"realizadas\", \"palestras\", \"com\", \"professores\", \"de\", \"diferentes\", \"\\\\u00e1reas\", \"da\", \"UFLA\", \"com\", \"o\", \"intuito\", \"de\", \"mostrar\", \"como\", \"\\\\u00e9\", \"poss\\\\u00edvel\", \"captar\", \"recursos\", \"de\", \"empresas\", \"privadas\", \"por\", \"meio\", \"de\", \"parcerias\", \"e\", \"ainda\", \"levar\", \"tecnologias\", \"geradas\", \"na\", \"Universidade\", \"para\", \"fora\", \"do\", \"ambiente\", \"acad\\\\u00eamico\", \"Jo\\\\u00e3o\", \"Silva\", \".\"], \"POS\": [\"VERB\", \"NOUN\", \"ADP\", \"NOUN\", \"ADP\", \"ADJ\", \"NOUN\", \"ADP\", \"PROPN\", \"PROPN\", \"PUNCT\", \"PROPN\", \"PUNCT\", \"PUNCT\", \"DET\", \"ADJ\", \"PROPN\", \"ADP\", \"PROPN\", \"PUNCT\", \"PROPN\", \"PUNCT\", \"CCONJ\", \"DET\", \"ADJ\", \"PROPN\", \"ADP\", \"PROPN\", \"PUNCT\", \"AUX\", \"VERB\", \"NOUN\", \"ADP\", \"NOUN\", \"ADP\", \"DET\", \"NOUN\", \"ADP\", \"PROPN\", \"ADP\", \"DET\", \"NOUN\", \"ADP\", \"VERB\", \"ADV\", \"VERB\", \"ADJ\", \"VERB\", \"NOUN\", \"ADP\", \"NOUN\", \"VERB\", \"ADP\", \"NOUN\", \"ADP\", \"NOUN\", \"CCONJ\", \"ADV\", \"VERB\", \"NOUN\", \"VERB\", \"ADP\", \"PROPN\", \"ADP\", \"ADV\", \"ADP\", \"NOUN\", \"ADJ\", \"PROPN\", \"PROPN\", \"PUNCT\"], \"DEP\": [[\"ROOT\", \"Dando\"], [\"obj\", \"Dando\"], [\"cc\", \"programa\\\\u00e7\\\\u00e3o\"], [\"conj\", \"continuidade\"], [\"case\", \"XXXII\"], [\"nmod\", \"programa\\\\u00e7\\\\u00e3o\"], [\"ROOT\", \"Congresso\"], [\"case\", \"Inicia\\\\u00e7\\\\u00e3o\"], [\"nmod\", \"Congresso\"], [\"flat:name\", \"Inicia\\\\u00e7\\\\u00e3o\"], [\"punct\", \"Ciufla\"], [\"appos\", \"Congresso\"], [\"punct\", \"Ciufla\"], [\"punct\", \"Congresso\"], [\"case\", \"Congresso\"], [\"amod\", \"Congresso\"], [\"nmod\", \"Congresso\"], [\"case\", \"Extens\\\\u00e3o\"], [\"nmod\", \"Congresso\"], [\"punct\", \"Conex\"], [\"appos\", \"Congresso\"], [\"punct\", \"Conex\"], [\"cc\", \"XXVIII\"], [\"case\", \"XXVIII\"], [\"conj\", \"Congresso\"], [\"nsubj:pass\", \"realizadas\"], [\"case\", \"P\\\\u00f3s-Gradua\\\\u00e7\\\\u00e3o\"], [\"nmod\", \"Congresso\"], [\"punct\", \"Congresso\"], [\"aux:pass\", \"realizadas\"], [\"ROOT\", \"realizadas\"], [\"nsubj:pass\", \"realizadas\"], [\"case\", \"professores\"], [\"nmod\", \"palestras\"], [\"case\", \"\\\\u00e1reas\"], [\"det\", \"\\\\u00e1reas\"], [\"nmod\", \"professores\"], [\"case\", \"UFLA\"], [\"nmod\", \"\\\\u00e1reas\"], [\"case\", \"intuito\"], [\"det\", \"intuito\"], [\"obl\", \"realizadas\"], [\"mark\", \"mostrar\"], [\"acl\", \"intuito\"], [\"advmod\", \"poss\\\\u00edvel\"], [\"cop\", \"poss\\\\u00edvel\"], [\"ccomp\", \"mostrar\"], [\"csubj\", \"poss\\\\u00edvel\"], [\"obj\", \"captar\"], [\"case\", \"empresas\"], [\"nmod\", \"recursos\"], [\"acl\", \"empresas\"], [\"case\", \"meio\"], [\"obl:agent\", \"privadas\"], [\"case\", \"parcerias\"], [\"nmod\", \"meio\"], [\"cc\", \"levar\"], [\"advmod\", \"levar\"], [\"conj\", \"captar\"], [\"obj\", \"levar\"], [\"acl\", \"tecnologias\"], [\"obj\", \"geradas\"], [\"obj\", \"geradas\"], [\"case\", \"fora\"], [\"advmod\", \"geradas\"], [\"case\", \"ambiente\"], [\"obl\", \"fora\"], [\"amod\", \"ambiente\"], [\"ROOT\", \"Jo\\\\u00e3o\"], [\"flat:name\", \"Jo\\\\u00e3o\"], [\"punct\", \"Jo\\\\u00e3o\"]], \"NER\": [\"\", \"\", \"\", \"\", \"\", \"\", \"\", \"\", \"\", \"\", \"\", \"PER\", \"\", \"\", \"\", \"MISC\", \"MISC\", \"MISC\", \"MISC\", \"\", \"MISC\", \"\", \"\", \"\", \"\", \"\", \"\", \"\", \"\", \"\", \"\", \"\", \"\", \"\", \"\", \"\", \"\", \"\", \"ORG\", \"\", \"\", \"\", \"\", \"\", \"\", \"\", \"\", \"\", \"\", \"\", \"\", \"\", \"\", \"\", \"\", \"\", \"\", \"\", \"\", \"\", \"\", \"\", \"LOC\", \"\", \"\", \"\", \"\", \"\", \"PER\", \"PER\", \"\"], \"SRL\": [[{\"V\": [\"Dando\", \"continuidade\"]}, {\"A1\": [\"\\\\u00e0\", \"programa\\\\u00e7\\\\u00e3o\", \"do\", \"XXXII\", \"Congresso\", \"de\", \"Inicia\\\\u00e7\\\\u00e3o\", \"Cient\\\\u00edfica\"]}, {\"A1\": [\"palestras\", \"com\", \"professores\", \"de\", \"diferentes\", \"\\\\u00e1reas\", \"da\", \"UFLA\", \"com\", \"o\", \"intuito\", \"de\", \"mostrar\", \"como\", \"\\\\u00e9\", \"poss\\\\u00edvel\", \"captar\", \"recursos\", \"de\", \"empresas\", \"privadas\", \"por\", \"meio\", \"de\", \"parcerias\", \"e\", \"ainda\", \"levar\", \"tecnologias\", \"geradas\", \"na\", \"Universidade\", \"para\", \"fora\", \"do\", \"ambiente\", \"acad\\\\u00eamico\", \"Jo\\\\u00e3o\", \"Silva\"]}, {\"V\": [\"realizadas\"]}, {\"V\": [\"mostrar\"]}, {\"V\": [\"captar\"]}, {\"A1\": [\"recursos\", \"de\", \"empresas\", \"privadas\"]}, {\"AM-CAU\": [\"por\", \"meio\", \"de\", \"parcerias\"]}, {\"AM-ADV\": [\"ainda\"]}, {\"V\": [\"levar\"]}, {\"A1\": [\"tecnologias\", \"geradas\", \"na\", \"Universidade\", \"para\", \"fora\", \"do\", \"ambiente\", \"acad\\\\u00eamico\", \"Jo\\\\u00e3o\", \"Silva\"]}]], \"WA\": [\"continuidade\", \"programa\\\\u00e7\\\\u00e3o\", \"XXXII\", \"Congresso\", \"Inicia\\\\u00e7\\\\u00e3o\", \"Cient\\\\u00edfica\", \"Ciufla\", \"XIV\", \"Congresso\", \"Extens\\\\u00e3o\", \"Conex\", \"XXVIII\", \"Congresso\", \"P\\\\u00f3s-Gradua\\\\u00e7\\\\u00e3o\", \"palestras\", \"professores\", \"\\\\u00e1reas\", \"UFLA\", \"intuito\", \"poss\\\\u00edvel\", \"recursos\", \"empresas\", \"meio\", \"parcerias\", \"tecnologias\", \"Universidade\", \"ambiente\", \"acad\\\\u00eamico\", \"Jo\\\\u00e3o\", \"Silva\", \"XXXII Congresso\", \"Inicia\\\\u00e7\\\\u00e3o Cient\\\\u00edfica\", \"ambiente acad\\\\u00eamico\", \"Jo\\\\u00e3o Silva\"]}, {\"sentence\": \"O professor J\\\\u00falio Louzada Silva Santos, do Departamento de Biologia (DBI), mostrou como \\\\u00e9 importante buscar a qualidade das publica\\\\u00e7\\\\u00f5es das pesquisas desenvolvidas na UFLA, e os professores Fl\\\\u00e1vio Bor\\\\u00e9m, do Departamento de Engenharia (DEG), e Carla \\\\u00c1vila, do Departamento de Zootecnia (DZO), falaram sobre como as ideias inovadoras ajudam a atrair empresas parceiras para investimentos na Universidade.\", \"tokens\": [\"O\", \"professor\", \"J\\\\u00falio\", \"Louzada\", \"Silva\", \"Santos\", \",\", \"do\", \"Departamento\", \"de\", \"Biologia\", \"(\", \"DBI\", \")\", \",\", \"mostrou\", \"como\", \"\\\\u00e9\", \"importante\", \"buscar\", \"a\", \"qualidade\", \"das\", \"publica\\\\u00e7\\\\u00f5es\", \"das\", \"pesquisas\", \"desenvolvidas\", \"na\", \"UFLA\", \",\", \"e\", \"os\", \"professores\", \"Fl\\\\u00e1vio\", \"Bor\\\\u00e9m\", \",\", \"do\", \"Departamento\", \"de\", \"Engenharia\", \"(\", \"DEG\", \")\", \",\", \"e\", \"Carla\", \"\\\\u00c1vila\", \",\", \"do\", \"Departamento\", \"de\", \"Zootecnia\", \"(\", \"DZO\", \")\", \",\", \"falaram\", \"sobre\", \"como\", \"as\", \"ideias\", \"inovadoras\", \"ajudam\", \"a\", \"atrair\", \"empresas\", \"parceiras\", \"para\", \"investimentos\", \"na\", \"Universidade\", \".\"], \"POS\": [\"DET\", \"NOUN\", \"PROPN\", \"PROPN\", \"PROPN\", \"PROPN\", \"PUNCT\", \"ADP\", \"PROPN\", \"ADP\", \"PROPN\", \"PUNCT\", \"PROPN\", \"PUNCT\", \"PUNCT\", \"VERB\", \"ADV\", \"VERB\", \"ADJ\", \"VERB\", \"DET\", \"NOUN\", \"VERB\", \"NOUN\", \"VERB\", \"NOUN\", \"VERB\", \"ADP\", \"PROPN\", \"PUNCT\", \"CCONJ\", \"DET\", \"SYM\", \"PROPN\", \"PROPN\", \"PUNCT\", \"ADP\", \"PROPN\", \"ADP\", \"PROPN\", \"PUNCT\", \"PROPN\", \"PUNCT\", \"PUNCT\", \"CCONJ\", \"PROPN\", \"PROPN\", \"PUNCT\", \"ADP\", \"PROPN\", \"ADP\", \"PROPN\", \"PUNCT\", \"PROPN\", \"PUNCT\", \"PUNCT\", \"VERB\", \"ADP\", \"NOUN\", \"DET\", \"NOUN\", \"ADJ\", \"VERB\", \"ADP\", \"VERB\", \"NOUN\", \"ADJ\", \"ADP\", \"NOUN\", \"ADP\", \"PROPN\", \"PUNCT\"], \"DEP\": [[\"det\", \"professor\"], [\"nsubj\", \"mostrou\"], [\"appos\", \"professor\"], [\"flat:name\", \"J\\\\u00falio\"], [\"flat:name\", \"J\\\\u00falio\"], [\"flat:name\", \"J\\\\u00falio\"], [\"punct\", \"professor\"], [\"case\", \"Departamento\"], [\"nmod\", \"professor\"], [\"case\", \"Biologia\"], [\"nmod\", \"Departamento\"], [\"punct\", \"DBI\"], [\"appos\", \"Departamento\"], [\"punct\", \"DBI\"], [\"punct\", \"professor\"], [\"ROOT\", \"mostrou\"], [\"advmod\", \"importante\"], [\"cop\", \"importante\"], [\"ccomp\", \"mostrou\"], [\"csubj\", \"importante\"], [\"det\", \"qualidade\"], [\"obj\", \"buscar\"], [\"acl\", \"publica\\\\u00e7\\\\u00f5es\"], [\"obj\", \"buscar\"], [\"acl\", \"publica\\\\u00e7\\\\u00f5es\"], [\"amod\", \"desenvolvidas\"], [\"obj\", \"buscar\"], [\"nmod\", \"desenvolvidas\"], [\"flat:name\", \"desenvolvidas\"], [\"punct\", \"professores\"], [\"cc\", \"professores\"], [\"det\", \"professores\"], [\"nsubj\", \"falaram\"], [\"appos\", \"professores\"], [\"flat:name\", \"Fl\\\\u00e1vio\"], [\"punct\", \"Departamento\"], [\"case\", \"Departamento\"], [\"nmod\", \"professores\"], [\"case\", \"Engenharia\"], [\"nmod\", \"Departamento\"], [\"punct\", \"DEG\"], [\"appos\", \"Departamento\"], [\"punct\", \"DEG\"], [\"punct\", \"Carla\"], [\"cc\", \"Carla\"], [\"conj\", \"professores\"], [\"flat:name\", \"Carla\"], [\"punct\", \"Departamento\"], [\"case\", \"Departamento\"], [\"appos\", \"professores\"], [\"case\", \"Zootecnia\"], [\"nmod\", \"Departamento\"], [\"punct\", \"DZO\"], [\"appos\", \"Departamento\"], [\"punct\", \"DZO\"], [\"punct\", \"Departamento\"], [\"conj\", \"mostrou\"], [\"case\", \"como\"], [\"dep\", \"falaram\"], [\"det\", \"ideias\"], [\"nsubj\", \"ajudam\"], [\"amod\", \"ideias\"], [\"advcl\", \"falaram\"], [\"mark\", \"atrair\"], [\"xcomp\", \"ajudam\"], [\"obj\", \"atrair\"], [\"amod\", \"empresas\"], [\"case\", \"investimentos\"], [\"obl\", \"atrair\"], [\"det\", \"investimentos\"], [\"flat:name\", \"investimentos\"], [\"punct\", \"mostrou\"]], \"NER\": [\"\", \"\", \"PER\", \"PER\", \"PER\", \"PER\", \"\", \"\", \"LOC\", \"LOC\", \"LOC\", \"\", \"ORG\", \"\", \"\", \"\", \"\", \"\", \"\", \"\", \"\", \"\", \"\", \"\", \"\", \"\", \"\", \"\", \"ORG\", \"\", \"\", \"\", \"\", \"PER\", \"PER\", \"\", \"\", \"LOC\", \"LOC\", \"LOC\", \"\", \"\", \"\", \"\", \"\", \"LOC\", \"LOC\", \"\", \"\", \"LOC\", \"LOC\", \"LOC\", \"\", \"ORG\", \"\", \"\", \"\", \"\", \"\", \"\", \"\", \"\", \"\", \"\", \"\", \"\", \"\", \"\", \"\", \"\", \"LOC\", \"\"], \"SRL\": [[{\"A0\": [\"O\", \"professor\", \"J\\\\u00falio\", \"Louzada\", \"Silva\", \"Santos\", \",\", \"do\", \"Departamento\", \"de\", \"Biologia\", \"(\", \"DBI\", \")\"]}, {\"V\": [\"mostrou\"]}, {\"A2\": [\"como\", \"\\\\u00e9\", \"importante\", \"buscar\", \"a\", \"qualidade\", \"das\", \"publica\\\\u00e7\\\\u00f5es\", \"das\", \"pesquisas\", \"desenvolvidas\", \"na\", \"UFLA\", \",\", \"e\", \"os\", \"professores\", \"Fl\\\\u00e1vio\", \"Bor\\\\u00e9m\", \",\", \"do\", \"Departamento\", \"de\", \"Engenharia\", \"(\", \"DEG\", \")\", \",\", \"e\", \"Carla\", \"\\\\u00c1vila\", \",\", \"do\", \"Departamento\", \"de\", \"Zootecnia\", \"(\", \"DZO\", \")\", \",\", \"falaram\", \"sobre\", \"como\", \"as\", \"ideias\", \"inovadoras\", \"ajudam\", \"a\", \"atrair\", \"empresas\", \"parceiras\", \"para\", \"investimentos\", \"na\", \"Universidade\"]}, {\"V\": [\"buscar\"]}, {\"A1\": [\"a\", \"qualidade\"]}, {\"V\": [\"falaram\"]}, {\"A1\": [\"sobre\", \"como\", \"as\", \"ideias\", \"inovadoras\", \"ajudam\", \"a\", \"atrair\", \"empresas\", \"parceiras\", \"para\", \"investimentos\", \"na\", \"Universidade\"]}, {\"A0\": [\"as\", \"ideias\", \"inovadoras\"]}, {\"V\": [\"ajudam\"]}, {\"A1\": [\"a\", \"atrair\", \"empresas\", \"parceiras\", \"para\", \"investimentos\", \"na\", \"Universidade\"]}, {\"V\": [\"atrair\"]}, {\"A1\": [\"empresas\", \"parceiras\", \"para\", \"investimentos\", \"na\", \"Universidade\"]}]], \"WA\": [\"professor\", \"J\\\\u00falio\", \"Louzada\", \"Silva\", \"Santos\", \"Departamento\", \"Biologia\", \"DBI\", \"importante\", \"qualidade\", \"publica\\\\u00e7\\\\u00f5es\", \"pesquisas\", \"UFLA\", \"Fl\\\\u00e1vio\", \"Bor\\\\u00e9m\", \"Departamento\", \"Engenharia\", \"DEG\", \"Carla\", \"\\\\u00c1vila\", \"Departamento\", \"Zootecnia\", \"DZO\", \"como\", \"ideias\", \"inovadoras\", \"empresas\", \"parceiras\", \"investimentos\", \"Universidade\", \"J\\\\u00falio Louzada Silva Santos\", \"Fl\\\\u00e1vio Bor\\\\u00e9m\", \"Carla \\\\u00c1vila\", \"ideias inovadoras\", \"empresas parceiras\"]}]}'"
      ]
     },
     "execution_count": 25,
     "metadata": {},
     "output_type": "execute_result"
    }
   ],
   "source": [
    "text = \"\"\"Dando continuidade à programação do XXXII Congresso de Iniciação Científica (Ciufla), do XIV Congresso de Extensão (Conex) e do XXVIII Congresso da Pós-Graduação, foram realizadas palestras com professores de diferentes áreas da UFLA com o intuito de mostrar como é possível captar recursos de empresas privadas por meio de parcerias e ainda levar tecnologias geradas na Universidade para fora do ambiente acadêmico João Silva.\n",
    "\n",
    "O professor Júlio Louzada Silva Santos, do Departamento de Biologia (DBI), mostrou como é importante buscar a qualidade das publicações das pesquisas desenvolvidas na UFLA, e os professores Flávio Borém, do Departamento de Engenharia (DEG), e Carla Ávila, do Departamento de Zootecnia (DZO), falaram sobre como as ideias inovadoras ajudam a atrair empresas parceiras para investimentos na Universidade.\"\"\"\n",
    "nlu(text)"
   ]
  },
  {
   "cell_type": "code",
   "execution_count": null,
   "metadata": {},
   "outputs": [],
   "source": []
  }
 ],
 "metadata": {
  "kernelspec": {
   "display_name": "Python 3",
   "language": "python",
   "name": "python3"
  },
  "language_info": {
   "codemirror_mode": {
    "name": "ipython",
    "version": 3
   },
   "file_extension": ".py",
   "mimetype": "text/x-python",
   "name": "python",
   "nbconvert_exporter": "python",
   "pygments_lexer": "ipython3",
   "version": "3.7.4"
  }
 },
 "nbformat": 4,
 "nbformat_minor": 4
}
