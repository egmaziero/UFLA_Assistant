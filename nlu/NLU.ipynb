{
 "cells": [
  {
   "cell_type": "markdown",
   "metadata": {},
   "source": [
    "# NLU"
   ]
  },
  {
   "cell_type": "code",
   "execution_count": 1,
   "metadata": {},
   "outputs": [
    {
     "name": "stderr",
     "output_type": "stream",
     "text": [
      "/home/douglas/.virtualenvs/PLN-IA_env/lib/python3.7/site-packages/sklearn/feature_extraction/text.py:17: DeprecationWarning: Using or importing the ABCs from 'collections' instead of from 'collections.abc' is deprecated, and in 3.8 it will stop working\n",
      "  from collections import Mapping, defaultdict\n"
     ]
    }
   ],
   "source": [
    "import spacy\n",
    "import json\n",
    "import nltk\n",
    "import nlpnet\n",
    "from nltk.tokenize import sent_tokenize"
   ]
  },
  {
   "cell_type": "code",
   "execution_count": 2,
   "metadata": {},
   "outputs": [],
   "source": [
    "nlp = spacy.load('pt_core_news_sm')\n",
    "sent_tokenizer = nltk.data.load('tokenizers/punkt/portuguese.pickle')\n",
    "\n",
    "srl_tagger = nlpnet.SRLTagger('srl-pt', language='pt')"
   ]
  },
  {
   "cell_type": "code",
   "execution_count": 41,
   "metadata": {},
   "outputs": [],
   "source": [
    "def nlu(text):\n",
    "    annotation = {\"sentences\": []}\n",
    "    sentences = sent_tokenizer.tokenize(text)\n",
    "    for sentence in sentences:\n",
    "        ann = {\"sentence\": sentence, \"tokens\": [], \"POS\": [], \"DEP\": [], \"NER\": [], \"SRL\": []}\n",
    "        doc = nlp(sentence)\n",
    "        for token in doc:\n",
    "            ann[\"tokens\"].append(str(token.text))\n",
    "            ann[\"POS\"].append(str(token.pos_))\n",
    "            ann[\"DEP\"].append((str(token.dep_), str(token.head)))\n",
    "            ann[\"NER\"].append(str(token.ent_type_))\n",
    "        \n",
    "        sent = srl_tagger.tag(u''+sentence)[0]\n",
    "        srl = []\n",
    "        \n",
    "        for s in sent.arg_structures:\n",
    "            \n",
    "            for key, value in s[1].items():\n",
    "                temp={key: value}\n",
    "                srl.append(temp)\n",
    "            \n",
    "        ann[\"SRL\"].append(srl)\n",
    "        annotation[\"sentences\"].append(ann)\n",
    "    return json.dumps(annotation, ensure_ascii=False)"
   ]
  },
  {
   "cell_type": "code",
   "execution_count": 42,
   "metadata": {},
   "outputs": [
    {
     "data": {
      "text/plain": [
       "'{\"sentences\": [{\"sentence\": \"Dando continuidade à programação do XXXII Congresso de Iniciação Científica (Ciufla), do XIV Congresso de Extensão (Conex) e do XXVIII Congresso da Pós-Graduação, foram realizadas palestras com professores de diferentes áreas da UFLA com o intuito de mostrar como é possível captar recursos de empresas privadas por meio de parcerias e ainda levar tecnologias geradas na Universidade para fora do ambiente acadêmico.\", \"tokens\": [\"Dando\", \"continuidade\", \"à\", \"programação\", \"do\", \"XXXII\", \"Congresso\", \"de\", \"Iniciação\", \"Científica\", \"(\", \"Ciufla\", \")\", \",\", \"do\", \"XIV\", \"Congresso\", \"de\", \"Extensão\", \"(\", \"Conex\", \")\", \"e\", \"do\", \"XXVIII\", \"Congresso\", \"da\", \"Pós-Graduação\", \",\", \"foram\", \"realizadas\", \"palestras\", \"com\", \"professores\", \"de\", \"diferentes\", \"áreas\", \"da\", \"UFLA\", \"com\", \"o\", \"intuito\", \"de\", \"mostrar\", \"como\", \"é\", \"possível\", \"captar\", \"recursos\", \"de\", \"empresas\", \"privadas\", \"por\", \"meio\", \"de\", \"parcerias\", \"e\", \"ainda\", \"levar\", \"tecnologias\", \"geradas\", \"na\", \"Universidade\", \"para\", \"fora\", \"do\", \"ambiente\", \"acadêmico\", \".\"], \"POS\": [\"VERB\", \"NOUN\", \"ADP\", \"NOUN\", \"ADP\", \"ADJ\", \"NOUN\", \"ADP\", \"PROPN\", \"PROPN\", \"PUNCT\", \"PROPN\", \"PUNCT\", \"PUNCT\", \"DET\", \"ADJ\", \"PROPN\", \"ADP\", \"PROPN\", \"PUNCT\", \"PROPN\", \"PUNCT\", \"CCONJ\", \"DET\", \"ADJ\", \"PROPN\", \"ADP\", \"PROPN\", \"PUNCT\", \"AUX\", \"VERB\", \"NOUN\", \"ADP\", \"NOUN\", \"ADP\", \"DET\", \"NOUN\", \"ADP\", \"PROPN\", \"ADP\", \"DET\", \"NOUN\", \"ADP\", \"VERB\", \"ADV\", \"VERB\", \"ADJ\", \"VERB\", \"NOUN\", \"ADP\", \"NOUN\", \"VERB\", \"ADP\", \"NOUN\", \"ADP\", \"NOUN\", \"CCONJ\", \"ADV\", \"VERB\", \"NOUN\", \"VERB\", \"ADP\", \"PROPN\", \"ADP\", \"ADV\", \"ADP\", \"NOUN\", \"ADJ\", \"PUNCT\"], \"DEP\": [[\"ROOT\", \"Dando\"], [\"obj\", \"Dando\"], [\"cc\", \"programação\"], [\"conj\", \"continuidade\"], [\"case\", \"XXXII\"], [\"nmod\", \"programação\"], [\"ROOT\", \"Congresso\"], [\"case\", \"Iniciação\"], [\"nmod\", \"Congresso\"], [\"flat:name\", \"Iniciação\"], [\"punct\", \"Ciufla\"], [\"appos\", \"Congresso\"], [\"punct\", \"Ciufla\"], [\"punct\", \"Congresso\"], [\"case\", \"Congresso\"], [\"amod\", \"Congresso\"], [\"nmod\", \"Congresso\"], [\"case\", \"Extensão\"], [\"nmod\", \"Congresso\"], [\"punct\", \"Conex\"], [\"appos\", \"Congresso\"], [\"punct\", \"Conex\"], [\"cc\", \"XXVIII\"], [\"case\", \"XXVIII\"], [\"conj\", \"Congresso\"], [\"nsubj:pass\", \"realizadas\"], [\"case\", \"Pós-Graduação\"], [\"nmod\", \"Congresso\"], [\"punct\", \"Congresso\"], [\"aux:pass\", \"realizadas\"], [\"ROOT\", \"realizadas\"], [\"nsubj:pass\", \"realizadas\"], [\"case\", \"professores\"], [\"nmod\", \"palestras\"], [\"case\", \"áreas\"], [\"det\", \"áreas\"], [\"nmod\", \"professores\"], [\"case\", \"UFLA\"], [\"nmod\", \"áreas\"], [\"case\", \"intuito\"], [\"det\", \"intuito\"], [\"obl\", \"realizadas\"], [\"mark\", \"mostrar\"], [\"acl\", \"intuito\"], [\"advmod\", \"possível\"], [\"cop\", \"possível\"], [\"ccomp\", \"mostrar\"], [\"csubj\", \"possível\"], [\"obj\", \"captar\"], [\"case\", \"empresas\"], [\"nmod\", \"recursos\"], [\"acl\", \"empresas\"], [\"case\", \"meio\"], [\"obl:agent\", \"privadas\"], [\"case\", \"parcerias\"], [\"nmod\", \"meio\"], [\"cc\", \"levar\"], [\"advmod\", \"levar\"], [\"conj\", \"captar\"], [\"obj\", \"levar\"], [\"acl\", \"tecnologias\"], [\"obj\", \"geradas\"], [\"obj\", \"geradas\"], [\"case\", \"fora\"], [\"advmod\", \"geradas\"], [\"case\", \"ambiente\"], [\"obl\", \"fora\"], [\"amod\", \"ambiente\"], [\"punct\", \"realizadas\"]], \"NER\": [\"\", \"\", \"\", \"\", \"\", \"\", \"\", \"\", \"\", \"\", \"\", \"PER\", \"\", \"\", \"\", \"MISC\", \"MISC\", \"MISC\", \"MISC\", \"\", \"MISC\", \"\", \"\", \"\", \"\", \"\", \"\", \"\", \"\", \"\", \"\", \"\", \"\", \"\", \"\", \"\", \"\", \"\", \"ORG\", \"\", \"\", \"\", \"\", \"\", \"\", \"\", \"\", \"\", \"\", \"\", \"\", \"\", \"\", \"\", \"\", \"\", \"\", \"\", \"\", \"\", \"\", \"\", \"LOC\", \"\", \"\", \"\", \"\", \"\", \"\"], \"SRL\": [[{\"V\": [\"Dando\", \"continuidade\"]}, {\"A1\": [\"à\", \"programação\", \"do\", \"XXXII\", \"Congresso\", \"de\", \"Iniciação\", \"Científica\"]}, {\"A1\": [\"palestras\", \"com\", \"professores\", \"de\", \"diferentes\", \"áreas\", \"da\", \"UFLA\", \"com\", \"o\", \"intuito\", \"de\", \"mostrar\", \"como\", \"é\", \"possível\", \"captar\", \"recursos\", \"de\", \"empresas\", \"privadas\", \"por\", \"meio\", \"de\", \"parcerias\", \"e\", \"ainda\", \"levar\", \"tecnologias\", \"geradas\", \"na\", \"Universidade\", \"para\", \"fora\", \"do\", \"ambiente\", \"acadêmico\"]}, {\"V\": [\"realizadas\"]}, {\"V\": [\"mostrar\"]}, {\"V\": [\"captar\"]}, {\"A1\": [\"recursos\", \"de\", \"empresas\", \"privadas\"]}, {\"AM-CAU\": [\"por\", \"meio\", \"de\", \"parcerias\"]}, {\"AM-ADV\": [\"ainda\"]}, {\"V\": [\"levar\"]}, {\"A1\": [\"tecnologias\", \"geradas\", \"na\", \"Universidade\", \"para\", \"fora\", \"do\", \"ambiente\", \"acadêmico\"]}]]}, {\"sentence\": \"O professor Júlio Louzada, do Departamento de Biologia (DBI), mostrou como é importante buscar a qualidade das publicações das pesquisas desenvolvidas na UFLA, e os professores Flávio Borém, do Departamento de Engenharia (DEG), e Carla Ávila, do Departamento de Zootecnia (DZO), falaram sobre como as ideias inovadoras ajudam a atrair empresas parceiras para investimentos na Universidade.\", \"tokens\": [\"O\", \"professor\", \"Júlio\", \"Louzada\", \",\", \"do\", \"Departamento\", \"de\", \"Biologia\", \"(\", \"DBI\", \")\", \",\", \"mostrou\", \"como\", \"é\", \"importante\", \"buscar\", \"a\", \"qualidade\", \"das\", \"publicações\", \"das\", \"pesquisas\", \"desenvolvidas\", \"na\", \"UFLA\", \",\", \"e\", \"os\", \"professores\", \"Flávio\", \"Borém\", \",\", \"do\", \"Departamento\", \"de\", \"Engenharia\", \"(\", \"DEG\", \")\", \",\", \"e\", \"Carla\", \"Ávila\", \",\", \"do\", \"Departamento\", \"de\", \"Zootecnia\", \"(\", \"DZO\", \")\", \",\", \"falaram\", \"sobre\", \"como\", \"as\", \"ideias\", \"inovadoras\", \"ajudam\", \"a\", \"atrair\", \"empresas\", \"parceiras\", \"para\", \"investimentos\", \"na\", \"Universidade\", \".\"], \"POS\": [\"DET\", \"NOUN\", \"PROPN\", \"PROPN\", \"PUNCT\", \"ADP\", \"PROPN\", \"ADP\", \"PROPN\", \"PUNCT\", \"PROPN\", \"PUNCT\", \"PUNCT\", \"VERB\", \"ADV\", \"VERB\", \"ADJ\", \"VERB\", \"DET\", \"NOUN\", \"VERB\", \"NOUN\", \"VERB\", \"NOUN\", \"VERB\", \"ADP\", \"PROPN\", \"PUNCT\", \"CCONJ\", \"DET\", \"SYM\", \"PROPN\", \"PROPN\", \"PUNCT\", \"ADP\", \"PROPN\", \"ADP\", \"PROPN\", \"PUNCT\", \"PROPN\", \"PUNCT\", \"PUNCT\", \"CCONJ\", \"PROPN\", \"PROPN\", \"PUNCT\", \"ADP\", \"PROPN\", \"ADP\", \"PROPN\", \"PUNCT\", \"PROPN\", \"PUNCT\", \"PUNCT\", \"VERB\", \"ADP\", \"NOUN\", \"DET\", \"NOUN\", \"ADJ\", \"VERB\", \"ADP\", \"VERB\", \"NOUN\", \"ADJ\", \"ADP\", \"NOUN\", \"ADP\", \"PROPN\", \"PUNCT\"], \"DEP\": [[\"det\", \"professor\"], [\"nsubj\", \"mostrou\"], [\"appos\", \"professor\"], [\"flat:name\", \"Júlio\"], [\"punct\", \"Departamento\"], [\"case\", \"Departamento\"], [\"nmod\", \"professor\"], [\"case\", \"Biologia\"], [\"nmod\", \"Departamento\"], [\"punct\", \"DBI\"], [\"appos\", \"Departamento\"], [\"punct\", \"DBI\"], [\"punct\", \"Departamento\"], [\"ROOT\", \"mostrou\"], [\"advmod\", \"importante\"], [\"cop\", \"importante\"], [\"ccomp\", \"mostrou\"], [\"csubj\", \"importante\"], [\"det\", \"qualidade\"], [\"obj\", \"buscar\"], [\"acl\", \"publicações\"], [\"obj\", \"buscar\"], [\"acl\", \"publicações\"], [\"amod\", \"desenvolvidas\"], [\"obj\", \"buscar\"], [\"nmod\", \"desenvolvidas\"], [\"flat:name\", \"desenvolvidas\"], [\"punct\", \"professores\"], [\"cc\", \"professores\"], [\"det\", \"professores\"], [\"nsubj\", \"falaram\"], [\"appos\", \"professores\"], [\"flat:name\", \"Flávio\"], [\"punct\", \"Departamento\"], [\"case\", \"Departamento\"], [\"nmod\", \"professores\"], [\"case\", \"Engenharia\"], [\"nmod\", \"Departamento\"], [\"punct\", \"DEG\"], [\"appos\", \"Departamento\"], [\"punct\", \"DEG\"], [\"punct\", \"Carla\"], [\"cc\", \"Carla\"], [\"conj\", \"professores\"], [\"flat:name\", \"Carla\"], [\"punct\", \"Departamento\"], [\"case\", \"Departamento\"], [\"appos\", \"professores\"], [\"case\", \"Zootecnia\"], [\"nmod\", \"Departamento\"], [\"punct\", \"DZO\"], [\"appos\", \"Departamento\"], [\"punct\", \"DZO\"], [\"punct\", \"Departamento\"], [\"conj\", \"mostrou\"], [\"case\", \"como\"], [\"dep\", \"falaram\"], [\"det\", \"ideias\"], [\"nsubj\", \"ajudam\"], [\"amod\", \"ideias\"], [\"advcl\", \"falaram\"], [\"mark\", \"atrair\"], [\"xcomp\", \"ajudam\"], [\"obj\", \"atrair\"], [\"amod\", \"empresas\"], [\"case\", \"investimentos\"], [\"obl\", \"atrair\"], [\"det\", \"investimentos\"], [\"flat:name\", \"investimentos\"], [\"punct\", \"mostrou\"]], \"NER\": [\"\", \"\", \"PER\", \"PER\", \"\", \"\", \"LOC\", \"LOC\", \"LOC\", \"\", \"ORG\", \"\", \"\", \"\", \"\", \"\", \"\", \"\", \"\", \"\", \"\", \"\", \"\", \"\", \"\", \"\", \"ORG\", \"\", \"\", \"\", \"\", \"PER\", \"PER\", \"\", \"\", \"LOC\", \"LOC\", \"LOC\", \"\", \"\", \"\", \"\", \"\", \"LOC\", \"LOC\", \"\", \"\", \"LOC\", \"LOC\", \"LOC\", \"\", \"ORG\", \"\", \"\", \"\", \"\", \"\", \"\", \"\", \"\", \"\", \"\", \"\", \"\", \"\", \"\", \"\", \"\", \"LOC\", \"\"], \"SRL\": [[{\"A0\": [\"O\", \"professor\", \"Júlio\", \"Louzada\", \",\", \"do\", \"Departamento\", \"de\", \"Biologia\", \"(\", \"DBI\", \")\"]}, {\"V\": [\"mostrou\"]}, {\"A1\": [\"como\", \"é\", \"importante\", \"buscar\", \"a\", \"qualidade\", \"das\", \"publicações\", \"das\", \"pesquisas\", \"desenvolvidas\", \"na\", \"UFLA\", \",\", \"e\", \"os\", \"professores\", \"Flávio\", \"Borém\", \",\", \"do\", \"Departamento\", \"de\", \"Engenharia\", \"(\", \"DEG\", \")\", \",\", \"e\", \"Carla\", \"Ávila\", \",\", \"do\", \"Departamento\", \"de\", \"Zootecnia\", \"(\", \"DZO\", \")\", \",\", \"falaram\", \"sobre\", \"como\", \"as\", \"ideias\", \"inovadoras\", \"ajudam\", \"a\", \"atrair\", \"empresas\", \"parceiras\", \"para\", \"investimentos\", \"na\", \"Universidade\"]}, {\"V\": [\"buscar\"]}, {\"A1\": [\"a\", \"qualidade\"]}, {\"V\": [\"falaram\"]}, {\"A1\": [\"sobre\", \"como\", \"as\", \"ideias\", \"inovadoras\", \"ajudam\", \"a\", \"atrair\", \"empresas\", \"parceiras\", \"para\", \"investimentos\", \"na\", \"Universidade\"]}, {\"A0\": [\"as\", \"ideias\", \"inovadoras\"]}, {\"V\": [\"ajudam\"]}, {\"A1\": [\"a\", \"atrair\", \"empresas\", \"parceiras\", \"para\", \"investimentos\", \"na\", \"Universidade\"]}, {\"V\": [\"atrair\"]}, {\"A1\": [\"empresas\", \"parceiras\", \"para\", \"investimentos\", \"na\", \"Universidade\"]}]]}]}'"
      ]
     },
     "execution_count": 42,
     "metadata": {},
     "output_type": "execute_result"
    }
   ],
   "source": [
    "text = \"\"\"Dando continuidade à programação do XXXII Congresso de Iniciação Científica (Ciufla), do XIV Congresso de Extensão (Conex) e do XXVIII Congresso da Pós-Graduação, foram realizadas palestras com professores de diferentes áreas da UFLA com o intuito de mostrar como é possível captar recursos de empresas privadas por meio de parcerias e ainda levar tecnologias geradas na Universidade para fora do ambiente acadêmico.\n",
    "\n",
    "O professor Júlio Louzada, do Departamento de Biologia (DBI), mostrou como é importante buscar a qualidade das publicações das pesquisas desenvolvidas na UFLA, e os professores Flávio Borém, do Departamento de Engenharia (DEG), e Carla Ávila, do Departamento de Zootecnia (DZO), falaram sobre como as ideias inovadoras ajudam a atrair empresas parceiras para investimentos na Universidade.\"\"\"\n",
    "nlu(text)"
   ]
  },
  {
   "cell_type": "code",
   "execution_count": null,
   "metadata": {},
   "outputs": [],
   "source": []
  },
  {
   "cell_type": "code",
   "execution_count": null,
   "metadata": {},
   "outputs": [],
   "source": []
  }
 ],
 "metadata": {
  "kernelspec": {
   "display_name": "Python 3",
   "language": "python",
   "name": "python3"
  },
  "language_info": {
   "codemirror_mode": {
    "name": "ipython",
    "version": 3
   },
   "file_extension": ".py",
   "mimetype": "text/x-python",
   "name": "python",
   "nbconvert_exporter": "python",
   "pygments_lexer": "ipython3",
   "version": "3.7.4"
  }
 },
 "nbformat": 4,
 "nbformat_minor": 4
}
