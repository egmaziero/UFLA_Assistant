{
 "cells": [
  {
   "cell_type": "code",
   "execution_count": 5,
   "metadata": {},
   "outputs": [],
   "source": [
    "import spacy\n",
    "import json"
   ]
  },
  {
   "cell_type": "markdown",
   "metadata": {},
   "source": [
    "# **POS and tokens - SPACY**\n",
    "\n",
    "**\"Quais as bolsas de iniciação científica da UFLA?\"**"
   ]
  },
  {
   "cell_type": "code",
   "execution_count": 6,
   "metadata": {},
   "outputs": [
    {
     "name": "stdout",
     "output_type": "stream",
     "text": [
      "{\"question\": \"Quais as bolsas de iniciação científica da UFLA?\", \"tokens\": [\"Quais\", \"as\", \"bolsas\", \"de\", \"iniciação\", \"científica\", \"da\", \"UFLA\", \"?\"], \"POS\": [\"SCONJ\", \"DET\", \"NOUN\", \"ADP\", \"NOUN\", \"ADJ\", \"ADP\", \"PROPN\", \"PUNCT\"]}\n"
     ]
    }
   ],
   "source": [
    "def pre_process(input_question):\n",
    "    input_dict = json.loads(input_question)\n",
    "    question = input_dict['question']\n",
    "\n",
    "    nlp = spacy.load('pt_core_news_sm')\n",
    "    doc = nlp(question)\n",
    "    dic = {}\n",
    "    tokens = []\n",
    "    pos = []\n",
    "    for token in doc:\n",
    "        tokens.append(token.text)\n",
    "        pos.append(token.pos_)\n",
    "\n",
    "    dic[\"question\"]=question\n",
    "    dic['tokens']=tokens\n",
    "    dic['POS']=pos\n",
    "    \n",
    "    output = json.dumps(dic, ensure_ascii=False)\n",
    "    return output \n",
    "\n",
    "print(pre_process('{\"question\": \"Quais as bolsas de iniciação científica da UFLA?\"}'))"
   ]
  },
  {
   "cell_type": "markdown",
   "metadata": {},
   "source": [
    "# **POS and tokens - NLTK**"
   ]
  },
  {
   "cell_type": "code",
   "execution_count": 7,
   "metadata": {},
   "outputs": [
    {
     "name": "stdout",
     "output_type": "stream",
     "text": [
      "showing info https://raw.githubusercontent.com/nltk/nltk_data/gh-pages/index.xml\n"
     ]
    },
    {
     "data": {
      "text/plain": [
       "True"
      ]
     },
     "execution_count": 7,
     "metadata": {},
     "output_type": "execute_result"
    }
   ],
   "source": [
    "import nltk\n",
    "import json\n",
    "nltk.download()"
   ]
  },
  {
   "cell_type": "code",
   "execution_count": 8,
   "metadata": {},
   "outputs": [
    {
     "name": "stdout",
     "output_type": "stream",
     "text": [
      "{\"question\": \"Quais as bolsas de iniciação científica da UFLA?\", \"tokens\": [\"Quais\", \"as\", \"bolsas\", \"de\", \"iniciação\", \"científica\", \"da\", \"UFLA\", \"?\"], \"POS\": [\"PROSUB\", \"ART\", \"N\", \"PREP\", \"N\", \"ADJ\", \"NPROP\", null, \"?\"]}\n"
     ]
    }
   ],
   "source": [
    "def pre_process(input_question):\n",
    "    input_dict = json.loads(input_question)\n",
    "    question = input_dict['question']\n",
    "    \n",
    "    tagged_sents = nltk.corpus.mac_morpho.tagged_sents()\n",
    "\n",
    "    tokens = nltk.word_tokenize(question)\n",
    "    unigram_tagger = nltk.tag.UnigramTagger(tagged_sents)\n",
    "    parsings = unigram_tagger.tag(tokens)\n",
    "\n",
    "    dic = {}\n",
    "    tokens = []\n",
    "    pos = []\n",
    "\n",
    "    for parsing in parsings:\n",
    "        tokens.append(parsing[0])\n",
    "        pos.append(parsing[1])\n",
    "\n",
    "    dic[\"question\"]=question\n",
    "    dic['tokens']=tokens\n",
    "    dic['POS']=pos\n",
    "\n",
    "    output = json.dumps(dic, ensure_ascii=False)\n",
    "    return output \n",
    "\n",
    "print(pre_process('{\"question\": \"Quais as bolsas de iniciação científica da UFLA?\"}'))"
   ]
  },
  {
   "cell_type": "markdown",
   "metadata": {},
   "source": [
    "# **POS and tokens - NLPNET**"
   ]
  },
  {
   "cell_type": "code",
   "execution_count": 9,
   "metadata": {},
   "outputs": [],
   "source": [
    "import nlpnet\n",
    "import json"
   ]
  },
  {
   "cell_type": "code",
   "execution_count": 10,
   "metadata": {},
   "outputs": [
    {
     "name": "stdout",
     "output_type": "stream",
     "text": [
      "{\"question\": \"Quais as bolsas de iniciação científica da UFLA?\", \"tokens\": [\"Quais\", \"as\", \"bolsas\", \"de\", \"iniciação\", \"científica\", \"da\", \"UFLA\", \"?\"], \"POS\": [\"PRO-KS\", \"ART\", \"N\", \"PREP\", \"N\", \"ADJ\", \"PREP+ART\", \"NPROP\", \"PU\"]}\n"
     ]
    }
   ],
   "source": [
    "def pre_process(input_question):\n",
    "    input_dict = json.loads(input_question)\n",
    "    question = input_dict['question']\n",
    "\n",
    "    tagger = nlpnet.POSTagger('pos-pt', language='pt')\n",
    "\n",
    "    sets = tagger.tag(question)\n",
    "\n",
    "    dic = {}\n",
    "    tokens = []\n",
    "    pos = []\n",
    "\n",
    "    for parsings in sets:\n",
    "        for parsing in parsings:\n",
    "            tokens.append(parsing[0])\n",
    "            pos.append(parsing[1])\n",
    "\n",
    "    dic[\"question\"]=question\n",
    "    dic['tokens']=tokens\n",
    "    dic['POS']=pos\n",
    "\n",
    "    output = json.dumps(dic, ensure_ascii=False)\n",
    "    return output \n",
    "\n",
    "print(pre_process('{\"question\": \"Quais as bolsas de iniciação científica da UFLA?\"}'))"
   ]
  },
  {
   "cell_type": "code",
   "execution_count": null,
   "metadata": {},
   "outputs": [],
   "source": []
  }
 ],
 "metadata": {
  "kernelspec": {
   "display_name": "Python 3",
   "language": "python",
   "name": "python3"
  },
  "language_info": {
   "codemirror_mode": {
    "name": "ipython",
    "version": 3
   },
   "file_extension": ".py",
   "mimetype": "text/x-python",
   "name": "python",
   "nbconvert_exporter": "python",
   "pygments_lexer": "ipython3",
   "version": "3.7.4"
  }
 },
 "nbformat": 4,
 "nbformat_minor": 4
}
