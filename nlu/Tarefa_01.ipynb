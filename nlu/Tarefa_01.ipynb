{
 "cells": [
  {
   "cell_type": "code",
   "execution_count": 1,
   "metadata": {},
   "outputs": [
    {
     "name": "stderr",
     "output_type": "stream",
     "text": [
      "/home/douglas/.virtualenvs/PLN-IA_env/lib/python3.7/site-packages/sklearn/feature_extraction/text.py:17: DeprecationWarning: Using or importing the ABCs from 'collections' instead of from 'collections.abc' is deprecated, and in 3.8 it will stop working\n",
      "  from collections import Mapping, defaultdict\n"
     ]
    }
   ],
   "source": [
    "import nltk\n",
    "import spacy"
   ]
  },
  {
   "cell_type": "markdown",
   "metadata": {},
   "source": [
    "# **POS and tokens**\n",
    "\n",
    "**\"Quais as bolsas de iniciação científica da UFLA?\"**"
   ]
  },
  {
   "cell_type": "code",
   "execution_count": 2,
   "metadata": {},
   "outputs": [
    {
     "name": "stdout",
     "output_type": "stream",
     "text": [
      "{\"question\": \"Quais as bolsas de iniciação científica da UFLA?\", \"tokens\": [\"Quais\", \"as\", \"bolsas\", \"de\", \"iniciação\", \"científica\", \"da\", \"UFLA\", \"?\"], \"POS\": [\"SCONJ\", \"DET\", \"NOUN\", \"ADP\", \"NOUN\", \"ADJ\", \"ADP\", \"PROPN\", \"PUNCT\"]}\n"
     ]
    }
   ],
   "source": [
    "nlp = spacy.load('pt_core_news_sm')\n",
    "question = \"Quais as bolsas de iniciação científica da UFLA?\"\n",
    "doc = nlp(question)\n",
    "dic = {}\n",
    "tokens = []\n",
    "pos = []\n",
    "for token in doc:\n",
    "    tokens.append(token.text)\n",
    "    pos.append(token.pos_)\n",
    "\n",
    "dic[\"question\"]=question\n",
    "dic['tokens']=tokens\n",
    "dic['POS']=pos\n",
    "\n",
    "json = str(dic).replace(\"\\'\",\"\\\"\")\n",
    "print(json)"
   ]
  }
 ],
 "metadata": {
  "kernelspec": {
   "display_name": "Python 3",
   "language": "python",
   "name": "python3"
  },
  "language_info": {
   "codemirror_mode": {
    "name": "ipython",
    "version": 3
   },
   "file_extension": ".py",
   "mimetype": "text/x-python",
   "name": "python",
   "nbconvert_exporter": "python",
   "pygments_lexer": "ipython3",
   "version": "3.6.8"
  }
 },
 "nbformat": 4,
 "nbformat_minor": 4
}
